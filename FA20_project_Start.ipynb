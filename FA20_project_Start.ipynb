{
 "cells": [
  {
   "cell_type": "markdown",
   "metadata": {},
   "source": [
    "# Stock Market Analysis\n",
    "\n",
    "![](https://miro.medium.com/max/890/1*br3g5RPb4lZp_CvUUpxn4A.jpeg)"
   ]
  },
  {
   "cell_type": "code",
   "execution_count": null,
   "metadata": {},
   "outputs": [],
   "source": [
    "# Team members:\n",
    "\n",
    "full_name_1 = \"Eugene Ham\"\n",
    "full_name_2 = \"Tyler Jarrett\"\n",
    "full_name_3 = \"Laura Kubit\""
   ]
  },
  {
   "cell_type": "markdown",
   "metadata": {},
   "source": [
    "---\n",
    "First, you need to install yfiance.\n",
    "\n",
    "    pip install yfinance"
   ]
  },
  {
   "cell_type": "code",
   "execution_count": 1,
   "metadata": {},
   "outputs": [],
   "source": [
    "import yfinance as yf  \n",
    "import pandas as pd"
   ]
  },
  {
   "cell_type": "markdown",
   "metadata": {},
   "source": [
    "---\n",
    "### Points distribution:\n",
    "\n",
    "* Parts A1 to A4, 5 points each.\n",
    "* Part A5, 10 points.\n",
    "* Part B1, 35 points.\n",
    "* Part B2, 35 points.\n"
   ]
  },
  {
   "cell_type": "markdown",
   "metadata": {},
   "source": [
    "---\n",
    "### yfinance library\n",
    "\n",
    "For part 1 to 6 you will use **yfinance** library. **yfinance** is a simple solution for downloading data from yahoo finance website. The returned results are in Pandas data frame format. For more information on **yfinance** library go to https://pypi.org/project/yfinance/.\n",
    "\n",
    "**Hint:** the only method you need for solving the problems is as follows. This method will get the ticker name, start date, end date, and it will return price as a pandas dataframe.\n"
   ]
  },
  {
   "cell_type": "code",
   "execution_count": 2,
   "metadata": {},
   "outputs": [
    {
     "data": {
      "text/html": [
       "<div>\n",
       "<style scoped>\n",
       "    .dataframe tbody tr th:only-of-type {\n",
       "        vertical-align: middle;\n",
       "    }\n",
       "\n",
       "    .dataframe tbody tr th {\n",
       "        vertical-align: top;\n",
       "    }\n",
       "\n",
       "    .dataframe thead th {\n",
       "        text-align: right;\n",
       "    }\n",
       "</style>\n",
       "<table border=\"1\" class=\"dataframe\">\n",
       "  <thead>\n",
       "    <tr style=\"text-align: right;\">\n",
       "      <th></th>\n",
       "      <th>Open</th>\n",
       "      <th>High</th>\n",
       "      <th>Low</th>\n",
       "      <th>Close</th>\n",
       "      <th>Adj Close</th>\n",
       "      <th>Volume</th>\n",
       "    </tr>\n",
       "    <tr>\n",
       "      <th>Date</th>\n",
       "      <th></th>\n",
       "      <th></th>\n",
       "      <th></th>\n",
       "      <th></th>\n",
       "      <th></th>\n",
       "      <th></th>\n",
       "    </tr>\n",
       "  </thead>\n",
       "  <tbody>\n",
       "    <tr>\n",
       "      <td>2019-11-05</td>\n",
       "      <td>144.970001</td>\n",
       "      <td>145.020004</td>\n",
       "      <td>143.910004</td>\n",
       "      <td>144.460007</td>\n",
       "      <td>143.577957</td>\n",
       "      <td>18250200</td>\n",
       "    </tr>\n",
       "    <tr>\n",
       "      <td>2019-11-06</td>\n",
       "      <td>144.369995</td>\n",
       "      <td>144.520004</td>\n",
       "      <td>143.199997</td>\n",
       "      <td>144.059998</td>\n",
       "      <td>143.180374</td>\n",
       "      <td>16575800</td>\n",
       "    </tr>\n",
       "  </tbody>\n",
       "</table>\n",
       "</div>"
      ],
      "text/plain": [
       "                  Open        High         Low       Close   Adj Close  \\\n",
       "Date                                                                     \n",
       "2019-11-05  144.970001  145.020004  143.910004  144.460007  143.577957   \n",
       "2019-11-06  144.369995  144.520004  143.199997  144.059998  143.180374   \n",
       "\n",
       "              Volume  \n",
       "Date                  \n",
       "2019-11-05  18250200  \n",
       "2019-11-06  16575800  "
      ]
     },
     "execution_count": 2,
     "metadata": {},
     "output_type": "execute_result"
    }
   ],
   "source": [
    "ticker = \"MSFT\"\n",
    "s_date = '2019-11-05'\n",
    "e_date = '2019-11-07'\n",
    "\n",
    "df = yf.download(ticker, s_date, e_date, progress=False)\n",
    "df"
   ]
  },
  {
   "cell_type": "markdown",
   "metadata": {},
   "source": [
    "---\n",
    "## Part A1 - Get price: \n",
    "\n",
    "Write a function that takes a ticker, start date, optional end date, and optional price type **(Open, High, Low, Close, Adj Close, or Volume)**. If the user does not pass the end date, the function should return the price for the given start date, ticker, and price type. If the user passes end date, the function should return a list of prices. The default price type is \"Close\".\n",
    "\n",
    "Sample result:\n",
    "    \n",
    "    [In]: get_stock_price('AAPL', '2019-02-06', '2019-02-13', price_type='Open')\n",
    "    [Out]: [174.64999389648438, 172.39999389648438, 168.99000549316406, 171.0500030517578, 170.10000610351562]\n",
    "    \n",
    "    [In]: get_stock_price('AAPL', '2019-02-06', price_type='Open')\n",
    "    [Out]: 174.64999389648438\n",
    "    \n",
    "    [In]: get_stock_price('AAPL', '2019-02-06', price_type='Adj Close')\n",
    "    [Out]: 171.25436401367188\n",
    "    \n",
    "    [In]: get_stock_price('AAPL', '2019-02-06')\n",
    "    [Out]: 174.24000549316406"
   ]
  },
  {
   "cell_type": "code",
   "execution_count": null,
   "metadata": {},
   "outputs": [],
   "source": [
    "def get_stock_price():\n",
    "    \n",
    "    \n",
    "    "
   ]
  },
  {
   "cell_type": "markdown",
   "metadata": {},
   "source": [
    "---\n",
    "## Part A2 - Get stock return:\n",
    "\n",
    "Write a function that takes a ticker, start date, and end date. The function should return the stock simple return value. Use **adjusted close price** for calculation. \n",
    "\n",
    "\n",
    "$$r = \\frac{p_{d2} - p_{d1}}{p_{d1}}$$\n",
    "\n",
    "Where:\n",
    "\n",
    "    r is simple return \n",
    "    p of t1 is price at date d1\n",
    "    p of t2 is price at date d2\n",
    "    \n",
    "Sample result:\n",
    "\n",
    "    [In]: get_stock_return('AAPL', '2018-01-05', '2018-12-28')\n",
    "    [Out]: -0.09431808317788551"
   ]
  },
  {
   "cell_type": "code",
   "execution_count": null,
   "metadata": {},
   "outputs": [],
   "source": [
    "def get_stock_return():\n",
    "    \n",
    "    \n",
    "    "
   ]
  },
  {
   "cell_type": "markdown",
   "metadata": {},
   "source": [
    "---\n",
    "## Part A3 - Get portfolio value: \n",
    "\n",
    "Write a function that takes a list of tickers, a list of ticker quantity, and a date. The function should return the total value of the portfolio for a given data.\n",
    "\n",
    "For example:\n",
    "\n",
    "    ['AAPL', 'MSFT', 'F'], [3, 5, 20] -> 3 AAPL shares, 5 MSFT shares, 20 F shares.\n",
    "\n",
    "Sample result:\n",
    "\n",
    "    [In]: get_portfolio_value(['V', 'F'], [10, 20] , '2019-11-05')\n",
    "    [Out]: 1935.5876350402832"
   ]
  },
  {
   "cell_type": "code",
   "execution_count": null,
   "metadata": {},
   "outputs": [],
   "source": [
    "def get_portfolio_value():\n",
    "    \n",
    "    "
   ]
  },
  {
   "cell_type": "markdown",
   "metadata": {},
   "source": [
    "---\n",
    "## Part A4 - Get portfolio return: \n",
    "\n",
    "Write a function that takes a list of tickers, a list of ticker quantity, start date, and end date. The function should return the overall simple return on the portfolio.\n",
    "\n",
    "Sample result:\n",
    "\n",
    "    [In]: get_portfolio_return(['AAPL', 'MSFT', 'F'], [3, 5, 20], '2019-10-1', '2019-10-10')\n",
    "    [Out]: 0.013837769803718095\n",
    "    "
   ]
  },
  {
   "cell_type": "code",
   "execution_count": null,
   "metadata": {},
   "outputs": [],
   "source": [
    "def get_portfolio_return():\n",
    "    \n",
    "    "
   ]
  },
  {
   "cell_type": "markdown",
   "metadata": {},
   "source": [
    "---\n",
    "## Part A5 - Beta value: \n",
    "\n",
    "**Beta** is a measure used in the fundamental analysis to determine the volatility of an asset or portfolio in relation to the overall market. To calculate the beta of a security, the covariance between the return of the security and the return of market must be known, as well as the variance of the market returns. \n",
    "\n",
    "$$\\beta = \\frac{Cov(r_p, r_b)}{Var(r_b)}$$\n",
    "\n",
    "**SPY** is an index fund that is based on the S&P 500 Index. Each share of the traditional SPDR ETFs holds a stake in the 500 stocks represented by the S&P 500. Let's assume that **SPY** is representing the market for calculating the beta.\n",
    "\n",
    "* If beta is less than one, the stock is less volatile than the market as a whole.\n",
    "* If beta is greater than one, the stock is more volatile than the market as a whole.\n",
    "* If beta is less than zero, the stock is losing money while the market as whole is gaining.\n",
    "\n",
    "\n",
    "Go to https://www.investopedia.com/articles/financial-theory/09/calculating-beta.asp and https://www.youtube.com/watch?v=zlClflcSrM8 for information on **How to Calculate Beta**. \n",
    "\n",
    "Source: Investopedia  \n",
    "\n",
    "\n",
    "Write a Python function that takes ticker, start date, and end date. The function should return the beta for a given stock. "
   ]
  },
  {
   "cell_type": "code",
   "execution_count": null,
   "metadata": {},
   "outputs": [],
   "source": [
    "def beta(ticker, start_date, end_date):\n",
    "    \n",
    "    "
   ]
  },
  {
   "cell_type": "markdown",
   "metadata": {},
   "source": [
    "---\n",
    "## Part B1 - Stock Analysis: \n",
    "\n",
    "Write a Python statement that can generate a comprehensive report on a given stock. You can use any python library for this part. The report should generate the following information:\n",
    "* The current stock price.\n",
    "* The current market cap.\n",
    "* Measures such as EPS, PE Ratio, etc.\n",
    "* At least 3 informative graphs. \n",
    "* Company Profile.\n",
    "* Any other relative information such as news about the company.\n",
    "\n",
    "Be creative and try to collect as much data as you can. Test your code for AAPL, MSFT, and F stocks.\n"
   ]
  },
  {
   "cell_type": "code",
   "execution_count": null,
   "metadata": {},
   "outputs": [],
   "source": [
    "\n",
    "\n",
    "\n",
    "\n",
    "\n",
    "\n",
    "\n",
    "\n",
    "\n",
    "\n",
    "\n",
    "\n"
   ]
  },
  {
   "cell_type": "markdown",
   "metadata": {},
   "source": [
    "---\n",
    "## Part B2 - Automated Investment Platform\n",
    "\n",
    "![](https://miro.medium.com/max/2800/0*QeUGJuCKSKyeTblH.jpg)\n",
    "\n",
    "Develop a Python program that takes a list of stocks and analyzes them. The automated investment platform should pick one stock to buy and one stock to sell.\n",
    "\n",
    "* Design an investment strategy and briefly explain your buy/sell strategy.\n",
    "* Develop a Python program that takes a list of ten tickers.\n",
    "* The output of the program is a single stock for investment. The program should pick the winner stock based on a logical and well-justified strategy. So you cannot randomly select a stock.\n",
    "* The second output of the program is a single stock to sell. The program should pick the loser stock based on a logical and well-justified strategy. So you cannot randomly select a stock.\n",
    "\n",
    "You can use any python library for this part. First, develop a strategy for investment; then convert your strategy to a program. You should clearly explain your investment strategy and the required steps for implementation."
   ]
  },
  {
   "cell_type": "markdown",
   "metadata": {},
   "source": [
    "### Type you strategy here"
   ]
  },
  {
   "cell_type": "code",
   "execution_count": null,
   "metadata": {},
   "outputs": [],
   "source": [
    "\n",
    "\n",
    "\n",
    "\n",
    "\n",
    "\n",
    "\n",
    "\n"
   ]
  },
  {
   "cell_type": "markdown",
   "metadata": {},
   "source": [
    "### Your program goes here"
   ]
  },
  {
   "cell_type": "code",
   "execution_count": null,
   "metadata": {},
   "outputs": [],
   "source": [
    "\n",
    "\n",
    "\n",
    "\n",
    "\n",
    "\n",
    "\n",
    "\n",
    "\n",
    "\n",
    "\n",
    "\n",
    "\n",
    "\n",
    "\n"
   ]
  }
 ],
 "metadata": {
  "kernelspec": {
   "display_name": "Python 3",
   "language": "python",
   "name": "python3"
  },
  "language_info": {
   "codemirror_mode": {
    "name": "ipython",
    "version": 3
   },
   "file_extension": ".py",
   "mimetype": "text/x-python",
   "name": "python",
   "nbconvert_exporter": "python",
   "pygments_lexer": "ipython3",
   "version": "3.8.3"
  }
 },
 "nbformat": 4,
 "nbformat_minor": 4
}
